{
  "nbformat": 4,
  "nbformat_minor": 0,
  "metadata": {
    "colab": {
      "provenance": [],
      "authorship_tag": "ABX9TyN9ELNw2CIj3eD/5N/FG1un",
      "include_colab_link": true
    },
    "kernelspec": {
      "name": "python3",
      "display_name": "Python 3"
    },
    "language_info": {
      "name": "python"
    }
  },
  "cells": [
    {
      "cell_type": "markdown",
      "metadata": {
        "id": "view-in-github",
        "colab_type": "text"
      },
      "source": [
        "<a href=\"https://colab.research.google.com/github/gokul-krishna-r/dm-logistic-regression/blob/main/dm_regression.ipynb\" target=\"_parent\"><img src=\"https://colab.research.google.com/assets/colab-badge.svg\" alt=\"Open In Colab\"/></a>"
      ]
    },
    {
      "cell_type": "markdown",
      "source": [
        "Regression is the process of relating independent variable to independent variable\n",
        "\n",
        "Logistic regression\n",
        "\n",
        "Dataset used here - consist of rows and columns(attributes) and th column for dependent variables\n",
        "\n",
        "**Steps**\n",
        "\n",
        "1. Upload dataset\n",
        "2. Split the dataset- x (dependent variables), y(independent variables)\n",
        "3. Learning -> Output: Model\n",
        "4. Train the model\n",
        "5. Evaluate the model using metrics(['accuracy'])\n",
        "\n"
      ],
      "metadata": {
        "id": "cSrkymuNvDWe"
      }
    },
    {
      "cell_type": "code",
      "execution_count": null,
      "metadata": {
        "id": "AjcXVEQjuvt0"
      },
      "outputs": [],
      "source": []
    }
  ]
}