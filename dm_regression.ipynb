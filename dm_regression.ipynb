{
  "nbformat": 4,
  "nbformat_minor": 0,
  "metadata": {
    "colab": {
      "provenance": [],
      "authorship_tag": "ABX9TyP4zGbbpPWVL3FnUNn5vFdQ",
      "include_colab_link": true
    },
    "kernelspec": {
      "name": "python3",
      "display_name": "Python 3"
    },
    "language_info": {
      "name": "python"
    }
  },
  "cells": [
    {
      "cell_type": "markdown",
      "metadata": {
        "id": "view-in-github",
        "colab_type": "text"
      },
      "source": [
        "<a href=\"https://colab.research.google.com/github/gokul-krishna-r/dm-logistic-regression/blob/main/dm_regression.ipynb\" target=\"_parent\"><img src=\"https://colab.research.google.com/assets/colab-badge.svg\" alt=\"Open In Colab\"/></a>"
      ]
    },
    {
      "cell_type": "markdown",
      "source": [
        "Regression is the process of relating independent variable to independent variable\n",
        "\n",
        "Logistic regression\n",
        "\n",
        "Dataset used here - consist of rows and columns(attributes) and th column for dependent variables\n",
        "\n",
        "**Steps**\n",
        "\n",
        "1. Upload dataset\n",
        "2. Split the dataset- x (dependent variables), y(independent variables)\n",
        "3. Learning -> Output: Model\n",
        "4. Train the model\n",
        "5. Evaluate the model using metrics(['accuracy'])\n",
        "\n"
      ],
      "metadata": {
        "id": "cSrkymuNvDWe"
      }
    },
    {
      "cell_type": "code",
      "execution_count": 1,
      "metadata": {
        "id": "AjcXVEQjuvt0",
        "colab": {
          "base_uri": "https://localhost:8080/"
        },
        "outputId": "7d9bc6ee-9969-42bc-d8ac-6129dfccf0c8"
      },
      "outputs": [
        {
          "output_type": "stream",
          "name": "stdout",
          "text": [
            "Mounted at /content/dataset/\n"
          ]
        }
      ],
      "source": [
        "from google.colab import drive\n",
        "import tensorflow as tf\n",
        "\n",
        "drive.mount('/content/dataset/')"
      ]
    },
    {
      "cell_type": "code",
      "source": [
        "import pandas as pd\n",
        "import numpy as np\n",
        "from sklearn.model_selection import train_test_split\n",
        "from sklearn.linear_model import LogisticRegression\n",
        "from sklearn.metrics import accuracy_score\n",
        "\n",
        "# Load the diabetes dataset\n",
        "diabetes_data = pd.read_csv('/content/dataset/MyDrive/Colab Notebooks/diabetes.csv')\n",
        "\n",
        "# Split the dataset into features (X) and target variable (y)\n",
        "X = diabetes_data.drop('Outcome', axis=1)\n",
        "y = diabetes_data['Outcome']\n",
        "\n",
        "# Split the data into training and testing sets\n",
        "X_train, X_test, y_train, y_test = train_test_split(X, y, test_size=0.2, random_state=42)\n",
        "\n",
        "# Create a logistic regression model\n",
        "model = LogisticRegression(max_iter=200) #specifies the number of iterations for the algorithm to converge\n",
        "\n",
        "# Train the model on the training data (input features -x and output - y(dependent variable))\n",
        "model.fit(X_train, y_train)\n",
        "\n",
        "# Make predictions on the test data\n",
        "y_pred = model.predict(X_test)\n",
        "\n",
        "# Evaluate the model\n",
        "accuracy = accuracy_score(y_test, y_pred)\n",
        "# Print the evaluation results\n",
        "print('Accuracy:', accuracy)"
      ],
      "metadata": {
        "colab": {
          "base_uri": "https://localhost:8080/"
        },
        "id": "0Iu6ZYH03cwA",
        "outputId": "880999b1-9efa-4f20-8707-5a31c346fca6"
      },
      "execution_count": 18,
      "outputs": [
        {
          "output_type": "stream",
          "name": "stdout",
          "text": [
            "Prediction 0\n",
            "Accuracy: 0.7467532467532467\n"
          ]
        }
      ]
    },
    {
      "cell_type": "code",
      "source": [
        "new_data = pd.DataFrame([[8, 183, 64, 0, 0, 23.3, 0.672, 32]])\n",
        "#new_data_scaled = scaler.transform(new_data)\n",
        "prediction = model.predict(new_data)\n",
        "if prediction == 0:\n",
        "  print(\"Result: Not Diabetic\")\n",
        "else:\n",
        "  print(\"Result: Diabetic\")"
      ],
      "metadata": {
        "colab": {
          "base_uri": "https://localhost:8080/"
        },
        "id": "p9B3d6m54djm",
        "outputId": "970399c9-d143-434b-c5c8-05f62291f7c6"
      },
      "execution_count": 28,
      "outputs": [
        {
          "output_type": "stream",
          "name": "stdout",
          "text": [
            "Result: Diabetic\n"
          ]
        },
        {
          "output_type": "stream",
          "name": "stderr",
          "text": [
            "/usr/local/lib/python3.10/dist-packages/sklearn/base.py:439: UserWarning: X does not have valid feature names, but LogisticRegression was fitted with feature names\n",
            "  warnings.warn(\n"
          ]
        }
      ]
    }
  ]
}